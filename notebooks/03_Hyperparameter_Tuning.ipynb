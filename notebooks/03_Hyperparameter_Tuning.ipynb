{
 "cells": [
  {
   "cell_type": "code",
   "execution_count": 1,
   "id": "81b18c56-d228-4f03-9627-3c9bf9555be6",
   "metadata": {},
   "outputs": [],
   "source": [
    "# Import Libraries\n",
    "import pandas as pd\n",
    "import numpy as np\n",
    "from sklearn.model_selection import RandomizedSearchCV, StratifiedKFold\n",
    "from sklearn.metrics import classification_report, confusion_matrix, roc_auc_score\n",
    "from xgboost import XGBClassifier\n",
    "from imblearn.over_sampling import SMOTE\n",
    "import matplotlib.pyplot as plt\n",
    "import seaborn as sns"
   ]
  },
  {
   "cell_type": "code",
   "execution_count": 2,
   "id": "6a8363f5-9ac0-46b9-834c-bd6e197a1623",
   "metadata": {},
   "outputs": [],
   "source": [
    "# Load dataset\n",
    "df = pd.read_csv('../data/carclaims.csv')\n",
    "\n",
    "# Drop irrelevant columns\n",
    "df = df.drop(['PolicyNumber', 'RepNumber', 'Year'], axis=1)\n",
    "\n",
    "# Prepare features and target\n",
    "X = df.drop('FraudFound', axis=1)\n",
    "y = df['FraudFound'].map({'No': 0, 'Yes': 1})\n",
    "\n",
    "# Split into train/test\n",
    "from sklearn.model_selection import train_test_split\n",
    "X_train, X_test, y_train, y_test = train_test_split(\n",
    "    X, y, test_size=0.2, random_state=42, stratify=y\n",
    ")\n",
    "\n",
    "# One-hot encode categorical variables\n",
    "from sklearn.compose import ColumnTransformer\n",
    "from sklearn.preprocessing import OneHotEncoder\n",
    "\n",
    "categorical_cols = X.select_dtypes(include=['object']).columns.tolist()\n",
    "\n",
    "preprocessor = ColumnTransformer(\n",
    "    transformers=[\n",
    "        ('cat', OneHotEncoder(handle_unknown='ignore', sparse_output=False), categorical_cols)\n",
    "    ],\n",
    "    remainder='passthrough'\n",
    ")\n",
    "\n",
    "X_train_encoded = preprocessor.fit_transform(X_train)\n",
    "X_test_encoded = preprocessor.transform(X_test)"
   ]
  },
  {
   "cell_type": "code",
   "execution_count": 3,
   "id": "1822a497-49e9-44a3-ad32-65077c4480cf",
   "metadata": {},
   "outputs": [
    {
     "name": "stdout",
     "output_type": "stream",
     "text": [
      "After SMOTE - Class distribution: [11598 11598]\n"
     ]
    }
   ],
   "source": [
    "from imblearn.over_sampling import SMOTE\n",
    "\n",
    "# Apply SMOTE to the training set\n",
    "smote = SMOTE(random_state=42)\n",
    "X_train_balanced, y_train_balanced = smote.fit_resample(X_train_encoded, y_train)\n",
    "\n",
    "print(f\"After SMOTE - Class distribution: {np.bincount(y_train_balanced)}\")"
   ]
  },
  {
   "cell_type": "code",
   "execution_count": 4,
   "id": "491c8d2a-c28a-4527-9fea-cc48659e36bd",
   "metadata": {},
   "outputs": [],
   "source": [
    "# hyper parameter grid\n",
    "param_dist = {\n",
    "    'n_estimators': [100, 300, 500],\n",
    "    'max_depth': [3, 5, 7, 10],\n",
    "    'learning_rate': [0.01, 0.05, 0.1, 0.2],\n",
    "    'subsample': [0.7, 0.8, 0.9, 1.0],\n",
    "    'colsample_bytree': [0.7, 0.8, 0.9, 1.0],\n",
    "    'gamma': [0, 0.1, 0.2, 0.5]\n",
    "}"
   ]
  },
  {
   "cell_type": "code",
   "execution_count": 5,
   "id": "5cd00a07-6424-43f4-aa87-a2bdd3dee116",
   "metadata": {},
   "outputs": [],
   "source": [
    "# configure randomized search\n",
    "cv = StratifiedKFold(n_splits=5, shuffle=True, random_state=42)\n",
    "\n",
    "random_search = RandomizedSearchCV(\n",
    "    estimator=XGBClassifier(eval_metric='logloss', random_state=42),\n",
    "    param_distributions=param_dist,\n",
    "    n_iter=20,\n",
    "    scoring='roc_auc',\n",
    "    cv=cv,\n",
    "    verbose=2,\n",
    "    n_jobs=-1\n",
    ")"
   ]
  },
  {
   "cell_type": "code",
   "execution_count": 6,
   "id": "4e14c44d-fc18-4003-849d-7acad206d612",
   "metadata": {},
   "outputs": [
    {
     "name": "stdout",
     "output_type": "stream",
     "text": [
      "Fitting 5 folds for each of 20 candidates, totalling 100 fits\n",
      "Best Parameters: {'subsample': 0.8, 'n_estimators': 100, 'max_depth': 10, 'learning_rate': 0.1, 'gamma': 0.5, 'colsample_bytree': 0.8}\n",
      "Best CV AUC: 0.9910\n"
     ]
    }
   ],
   "source": [
    "# run hyperparameter tuning\n",
    "random_search.fit(X_train_balanced, y_train_balanced)\n",
    "\n",
    "print(\"Best Parameters:\", random_search.best_params_)\n",
    "print(f\"Best CV AUC: {random_search.best_score_:.4f}\")"
   ]
  },
  {
   "cell_type": "code",
   "execution_count": 7,
   "id": "0f6fbe05-9a22-4feb-897a-fda10dae5abc",
   "metadata": {},
   "outputs": [
    {
     "name": "stdout",
     "output_type": "stream",
     "text": [
      "              precision    recall  f1-score   support\n",
      "\n",
      "           0       0.94      1.00      0.97      2899\n",
      "           1       0.69      0.06      0.11       185\n",
      "\n",
      "    accuracy                           0.94      3084\n",
      "   macro avg       0.82      0.53      0.54      3084\n",
      "weighted avg       0.93      0.94      0.92      3084\n",
      "\n"
     ]
    },
    {
     "data": {
      "image/png": "[encoded data removed]",
      "text/plain": [
       "<Figure size 600x400 with 2 Axes>"
      ]
     },
     "metadata": {},
     "output_type": "display_data"
    },
    {
     "name": "stdout",
     "output_type": "stream",
     "text": [
      "Test AUC-ROC Score (Tuned Model): 0.8267\n"
     ]
    }
   ],
   "source": [
    "# Evaluate best model on test set\n",
    "best_model = random_search.best_estimator_\n",
    "\n",
    "y_pred = best_model.predict(X_test_encoded)\n",
    "y_proba = best_model.predict_proba(X_test_encoded)[:, 1]\n",
    "\n",
    "print(classification_report(y_test, y_pred))\n",
    "\n",
    "cm = confusion_matrix(y_test, y_pred)\n",
    "plt.figure(figsize=(6,4))\n",
    "sns.heatmap(cm, annot=True, fmt='d', cmap='Blues')\n",
    "plt.title('Confusion Matrix (Tuned Model)')\n",
    "plt.xlabel('Predicted')\n",
    "plt.ylabel('Actual')\n",
    "plt.show()\n",
    "\n",
    "auc = roc_auc_score(y_test, y_proba)\n",
    "print(f\"Test AUC-ROC Score (Tuned Model): {auc:.4f}\")"
   ]
  },
  {
   "cell_type": "code",
   "execution_count": 13,
   "id": "87287311-12d1-479c-a6f4-8c5eebda91c3",
   "metadata": {
    "scrolled": true
   },
   "outputs": [
    {
     "name": "stdout",
     "output_type": "stream",
     "text": [
      "Model saved successfully.\n",
      "Preprocessor saved successfully.\n",
      "Test data saved successfully.\n"
     ]
    }
   ],
   "source": [
    "import joblib\n",
    "import os\n",
    "\n",
    "# Create the results directory if it doesn't exist\n",
    "os.makedirs('../results', exist_ok=True)\n",
    "\n",
    "# Save the best model\n",
    "joblib.dump(best_model, '../results/best_smote_model.joblib')\n",
    "print(\"Model saved successfully.\")\n",
    "\n",
    "# Save the preprocessing pipeline\n",
    "joblib.dump(preprocessor, '../results/preprocessor.joblib')\n",
    "print(\"Preprocessor saved successfully.\")\n",
    "\n",
    "# Save test data\n",
    "np.save('../data/X_test_encoded.npy', X_test_encoded)\n",
    "np.save('../data/y_test.npy', y_test)\n",
    "print(\"Test data saved successfully.\")"
   ]
  },
  {
   "cell_type": "code",
   "execution_count": 15,
   "id": "531a4216-713d-4bce-82b2-2150dee1aee5",
   "metadata": {},
   "outputs": [
    {
     "name": "stdout",
     "output_type": "stream",
     "text": [
      "Number of features: 145\n"
     ]
    }
   ],
   "source": [
    "# Get the feature names from the preprocessor\n",
    "onehot_feature_names = preprocessor.named_transformers_['cat'].get_feature_names_out()\n",
    "\n",
    "# If you used ColumnTransformer with remainder='passthrough', combine with numerical features\n",
    "numerical_cols = X.select_dtypes(exclude=['object']).columns.tolist()\n",
    "\n",
    "# Combine categorical and numerical feature names\n",
    "all_feature_names = np.concatenate([onehot_feature_names, numerical_cols])\n",
    "\n",
    "print(f\"Number of features: {len(all_feature_names)}\")\n",
    "\n",
    "with open('../results/feature_names.json', 'w') as f:\n",
    "    json.dump(all_feature_names.tolist(), f)"
   ]
  },
  {
   "cell_type": "code",
   "execution_count": 9,
   "id": "19b0f9fe-734b-473c-be50-2f51ed10c357",
   "metadata": {},
   "outputs": [
    {
     "name": "stdout",
     "output_type": "stream",
     "text": [
      "Results saved successfully.\n"
     ]
    }
   ],
   "source": [
    "import json\n",
    "\n",
    "# Create the directory if it doesn't exist\n",
    "os.makedirs(\"../results\", exist_ok=True)\n",
    "\n",
    "# Save the results\n",
    "results = {\n",
    "    \"best_params\": random_search.best_params_,\n",
    "    \"auc\": auc\n",
    "}\n",
    "\n",
    "with open(\"../results/tuned_model_results.json\", \"w\") as f:\n",
    "    json.dump(results, f)\n",
    "\n",
    "print(\"Results saved successfully.\")"
   ]
  },
  {
   "cell_type": "code",
   "execution_count": null,
   "id": "cbf48809-2fe0-4249-9ff1-888d38c6367c",
   "metadata": {},
   "outputs": [],
   "source": []
  }
 ],
 "metadata": {
  "kernelspec": {
   "display_name": "Python 3 (ipykernel)",
   "language": "python",
   "name": "python3"
  },
  "language_info": {
   "codemirror_mode": {
    "name": "ipython",
    "version": 3
   },
   "file_extension": ".py",
   "mimetype": "text/x-python",
   "name": "python",
   "nbconvert_exporter": "python",
   "pygments_lexer": "ipython3",
   "version": "3.11.13"
  }
 },
 "nbformat": 4,
 "nbformat_minor": 5
}
